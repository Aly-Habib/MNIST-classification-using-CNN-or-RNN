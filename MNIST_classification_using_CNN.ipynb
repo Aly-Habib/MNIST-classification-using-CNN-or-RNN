{
  "nbformat": 4,
  "nbformat_minor": 0,
  "metadata": {
    "colab": {
      "provenance": [],
      "authorship_tag": "ABX9TyM3RIf+wQSWaIJuaHXfLOOV",
      "include_colab_link": true
    },
    "kernelspec": {
      "name": "python3",
      "display_name": "Python 3"
    },
    "language_info": {
      "name": "python"
    }
  },
  "cells": [
    {
      "cell_type": "markdown",
      "metadata": {
        "id": "view-in-github",
        "colab_type": "text"
      },
      "source": [
        "<a href=\"https://colab.research.google.com/github/Aly-Habib/MNIST-classification-using-CNN-or-RNN/blob/main/MNIST_classification_using_CNN.ipynb\" target=\"_parent\"><img src=\"https://colab.research.google.com/assets/colab-badge.svg\" alt=\"Open In Colab\"/></a>"
      ]
    },
    {
      "cell_type": "markdown",
      "source": [
        "\n",
        "\n",
        "Importing all needed libaries\n",
        "\n"
      ],
      "metadata": {
        "id": "-aHbG5r4u8gy"
      }
    },
    {
      "cell_type": "code",
      "source": [
        "import numpy\n",
        "from keras.datasets import mnist\n",
        "from keras.models import Sequential\n",
        "from keras.layers import Dense, Flatten, Dropout \n",
        "from keras.layers.convolutional import Conv2D, MaxPooling2D\n",
        "from keras.utils import np_utils"
      ],
      "metadata": {
        "id": "zu1r9I7_vofK"
      },
      "execution_count": null,
      "outputs": []
    },
    {
      "cell_type": "markdown",
      "source": [
        "Load data from MNIST"
      ],
      "metadata": {
        "id": "h8viUptp7juD"
      }
    },
    {
      "cell_type": "code",
      "source": [
        "(xtrain, ytrain), (xtest, ytest) = mnist.load_data()"
      ],
      "metadata": {
        "id": "FvQeU5w06o0L"
      },
      "execution_count": null,
      "outputs": []
    },
    {
      "cell_type": "markdown",
      "source": [
        "Reshape and normalize data"
      ],
      "metadata": {
        "id": "Ts7LK4mg8SnR"
      }
    },
    {
      "cell_type": "code",
      "source": [
        "xtrain = xtrain.reshape(60000, 28, 28, 1).astype('float32')\n",
        "xtest = xtest.reshape(10000, 28, 28, 1).astype('float32')\n",
        "xtrain = xtrain / 255.0\n",
        "xtest = xtest / 255.0\n",
        "ytrain = np_utils.to_categorical(ytrain)\n",
        "ytest = np_utils.to_categorical(ytest)"
      ],
      "metadata": {
        "id": "-dq9N0Xq7_A0"
      },
      "execution_count": null,
      "outputs": []
    },
    {
      "cell_type": "markdown",
      "source": [
        "The model"
      ],
      "metadata": {
        "id": "KewHis6U-jTG"
      }
    },
    {
      "cell_type": "code",
      "source": [
        "model = Sequential()\n",
        "model.add(Conv2D(30, (5, 5), input_shape=(28, 28, 1), activation='relu'))\n",
        "model.add(MaxPooling2D(pool_size=(2, 2)))\n",
        "model.add(Conv2D(15, (3, 3), activation='relu'))\n",
        "model.add(MaxPooling2D(pool_size=(2, 2)))\n",
        "model.add(Dropout(0.2))\n",
        "model.add(Flatten())\n",
        "model.add(Dense(128, activation='relu'))\n",
        "model.add(Dense(64, activation='relu'))\n",
        "model.add(Dense(10, activation='softmax'))\n",
        "model.compile(loss='categorical_crossentropy', optimizer='adam', metrics=['accuracy'])\n",
        "model.fit(xtrain, ytrain, validation_data=(xtest, ytest), epochs=10, batch_size=64)"
      ],
      "metadata": {
        "colab": {
          "base_uri": "https://localhost:8080/"
        },
        "id": "fX-3-Isn8xts",
        "outputId": "7ecfe71e-7cd3-4f5c-c56a-8ef1726f9b5e"
      },
      "execution_count": null,
      "outputs": [
        {
          "output_type": "stream",
          "name": "stdout",
          "text": [
            "Epoch 1/10\n",
            "938/938 [==============================] - 30s 32ms/step - loss: 0.2483 - accuracy: 0.9219 - val_loss: 0.0551 - val_accuracy: 0.9812\n",
            "Epoch 2/10\n",
            "938/938 [==============================] - 29s 31ms/step - loss: 0.0744 - accuracy: 0.9760 - val_loss: 0.0488 - val_accuracy: 0.9841\n",
            "Epoch 3/10\n",
            "938/938 [==============================] - 29s 31ms/step - loss: 0.0546 - accuracy: 0.9828 - val_loss: 0.0344 - val_accuracy: 0.9894\n",
            "Epoch 4/10\n",
            "938/938 [==============================] - 30s 32ms/step - loss: 0.0470 - accuracy: 0.9852 - val_loss: 0.0296 - val_accuracy: 0.9901\n",
            "Epoch 5/10\n",
            "938/938 [==============================] - 30s 32ms/step - loss: 0.0407 - accuracy: 0.9875 - val_loss: 0.0249 - val_accuracy: 0.9921\n",
            "Epoch 6/10\n",
            "938/938 [==============================] - 30s 32ms/step - loss: 0.0363 - accuracy: 0.9888 - val_loss: 0.0281 - val_accuracy: 0.9912\n",
            "Epoch 7/10\n",
            "938/938 [==============================] - 30s 32ms/step - loss: 0.0320 - accuracy: 0.9895 - val_loss: 0.0212 - val_accuracy: 0.9924\n",
            "Epoch 8/10\n",
            "938/938 [==============================] - 30s 32ms/step - loss: 0.0294 - accuracy: 0.9905 - val_loss: 0.0222 - val_accuracy: 0.9928\n",
            "Epoch 9/10\n",
            "938/938 [==============================] - 30s 32ms/step - loss: 0.0262 - accuracy: 0.9915 - val_loss: 0.0222 - val_accuracy: 0.9922\n",
            "Epoch 10/10\n",
            "938/938 [==============================] - 30s 32ms/step - loss: 0.0244 - accuracy: 0.9923 - val_loss: 0.0215 - val_accuracy: 0.9933\n"
          ]
        },
        {
          "output_type": "execute_result",
          "data": {
            "text/plain": [
              "<keras.callbacks.History at 0x7fe131280fd0>"
            ]
          },
          "metadata": {},
          "execution_count": 7
        }
      ]
    },
    {
      "cell_type": "code",
      "source": [
        "model.save(\"MNIST classification using CNN\")"
      ],
      "metadata": {
        "colab": {
          "base_uri": "https://localhost:8080/"
        },
        "id": "lC69BtGvH0xX",
        "outputId": "d8044a27-8309-4a06-fe59-e9a87a9b4ff6"
      },
      "execution_count": null,
      "outputs": [
        {
          "output_type": "stream",
          "name": "stdout",
          "text": [
            "INFO:tensorflow:Assets written to: MNIST classification using CNN/assets\n"
          ]
        }
      ]
    },
    {
      "cell_type": "code",
      "source": [],
      "metadata": {
        "id": "7CSGRND_LAoU"
      },
      "execution_count": null,
      "outputs": []
    }
  ]
}