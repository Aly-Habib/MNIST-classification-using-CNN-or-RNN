{
  "nbformat": 4,
  "nbformat_minor": 0,
  "metadata": {
    "colab": {
      "provenance": [],
      "authorship_tag": "ABX9TyOjl96brjZBXA6Gws/wPRZh",
      "include_colab_link": true
    },
    "kernelspec": {
      "name": "python3",
      "display_name": "Python 3"
    },
    "language_info": {
      "name": "python"
    },
    "accelerator": "GPU"
  },
  "cells": [
    {
      "cell_type": "markdown",
      "metadata": {
        "id": "view-in-github",
        "colab_type": "text"
      },
      "source": [
        "<a href=\"https://colab.research.google.com/github/Aly-Habib/MNIST-classification-using-CNN-or-RNN/blob/main/MNIST_classification_using_RNN.ipynb\" target=\"_parent\"><img src=\"https://colab.research.google.com/assets/colab-badge.svg\" alt=\"Open In Colab\"/></a>"
      ]
    },
    {
      "cell_type": "markdown",
      "source": [
        "\n",
        "\n",
        "Importing all needed libaries\n",
        "\n"
      ],
      "metadata": {
        "id": "-aHbG5r4u8gy"
      }
    },
    {
      "cell_type": "code",
      "source": [
        "import tensorflow as tf\n",
        "import matplotlib.pyplot as plt\n",
        "from tensorflow import keras\n",
        "from keras.datasets import mnist\n",
        "from keras.models import Sequential\n",
        "from keras.layers import Dense, Dropout, LSTM, CuDNNLSTM "
      ],
      "metadata": {
        "id": "zu1r9I7_vofK"
      },
      "execution_count": null,
      "outputs": []
    },
    {
      "cell_type": "markdown",
      "source": [
        "Load data from MNIST"
      ],
      "metadata": {
        "id": "h8viUptp7juD"
      }
    },
    {
      "cell_type": "code",
      "source": [
        "(xtrain, ytrain), (xtest, ytest) = mnist.load_data()"
      ],
      "metadata": {
        "id": "FvQeU5w06o0L",
        "colab": {
          "base_uri": "https://localhost:8080/"
        },
        "outputId": "ea444094-2769-43a6-9821-f94512869f4a"
      },
      "execution_count": null,
      "outputs": [
        {
          "output_type": "stream",
          "name": "stdout",
          "text": [
            "Downloading data from https://storage.googleapis.com/tensorflow/tf-keras-datasets/mnist.npz\n",
            "11493376/11490434 [==============================] - 0s 0us/step\n",
            "11501568/11490434 [==============================] - 0s 0us/step\n"
          ]
        }
      ]
    },
    {
      "cell_type": "markdown",
      "source": [],
      "metadata": {
        "id": "0Nh4_sAQ4LHb"
      }
    },
    {
      "cell_type": "markdown",
      "source": [
        "Normalize data"
      ],
      "metadata": {
        "id": "01lEwloQ4MvT"
      }
    },
    {
      "cell_type": "code",
      "source": [
        "xtrain = xtrain / 255.0\n",
        "xtest = xtest / 255.0"
      ],
      "metadata": {
        "id": "UQmWs4f54V1r"
      },
      "execution_count": null,
      "outputs": []
    },
    {
      "cell_type": "markdown",
      "source": [
        "The dataset info"
      ],
      "metadata": {
        "id": "GDHhfoH_yM7v"
      }
    },
    {
      "cell_type": "code",
      "source": [
        "print(\"The number of training images: \" + str(xtrain.shape[0]))\n",
        "print(\"The shape of the training images: \" + str(xtrain[0].shape))"
      ],
      "metadata": {
        "colab": {
          "base_uri": "https://localhost:8080/"
        },
        "id": "PL9R2M8Pt_3T",
        "outputId": "4d145cbb-6ae7-4ef7-b8c0-8d06d466b05f"
      },
      "execution_count": null,
      "outputs": [
        {
          "output_type": "stream",
          "name": "stdout",
          "text": [
            "The number of training images: 60000\n",
            "The shape of the training images: (28, 28)\n"
          ]
        }
      ]
    },
    {
      "cell_type": "markdown",
      "source": [
        "The model"
      ],
      "metadata": {
        "id": "2TU530qzz1Em"
      }
    },
    {
      "cell_type": "code",
      "source": [
        "model = Sequential()\n",
        "\n",
        "#The first layer\n",
        "#model.add(LSTM(128, input_shape=(xtrain[0].shape), activation=\"relu\", return_sequences=True))\n",
        "model.add(CuDNNLSTM(128, input_shape=(xtrain[0].shape), return_sequences=True))\n",
        "model.add(Dropout(0.2))\n",
        "\n",
        "#The second layer\n",
        "#model.add(LSTM(128, activation=\"relu\"))\n",
        "model.add(CuDNNLSTM(128))\n",
        "model.add(Dropout(0.2))\n",
        "\n",
        "#The third layer\n",
        "model.add(Dense(32 ,activation=\"relu\"))\n",
        "model.add(Dropout(0.2))\n",
        "\n",
        "#The last layer \n",
        "model.add(Dense(10, activation=\"softmax\"))\n",
        "\n",
        "opt = keras.optimizers.Adam(learning_rate=0.001, decay=1e-5)\n",
        "\n",
        "model.compile(loss='sparse_categorical_crossentropy', optimizer=opt, metrics=['accuracy'])\n",
        "\n",
        "hist = model.fit(xtrain, ytrain, validation_data=(xtest, ytest), epochs=4)"
      ],
      "metadata": {
        "colab": {
          "base_uri": "https://localhost:8080/"
        },
        "id": "tAx5Yunlz5OY",
        "outputId": "5571ecde-d566-4328-e850-016daf166c41"
      },
      "execution_count": null,
      "outputs": [
        {
          "output_type": "stream",
          "name": "stdout",
          "text": [
            "Epoch 1/4\n",
            "1875/1875 [==============================] - 48s 23ms/step - loss: 0.4159 - accuracy: 0.8720 - val_loss: 0.1370 - val_accuracy: 0.9589\n",
            "Epoch 2/4\n",
            "1875/1875 [==============================] - 43s 23ms/step - loss: 0.1247 - accuracy: 0.9668 - val_loss: 0.0831 - val_accuracy: 0.9760\n",
            "Epoch 3/4\n",
            "1875/1875 [==============================] - 43s 23ms/step - loss: 0.0857 - accuracy: 0.9769 - val_loss: 0.0741 - val_accuracy: 0.9772\n",
            "Epoch 4/4\n",
            "1875/1875 [==============================] - 43s 23ms/step - loss: 0.0675 - accuracy: 0.9823 - val_loss: 0.0523 - val_accuracy: 0.9859\n"
          ]
        }
      ]
    },
    {
      "cell_type": "code",
      "source": [
        "print(hist.history.keys())"
      ],
      "metadata": {
        "colab": {
          "base_uri": "https://localhost:8080/"
        },
        "id": "SfR0oyBUCwk9",
        "outputId": "e560a456-9b7e-4985-9a45-9c20ee97c47c"
      },
      "execution_count": null,
      "outputs": [
        {
          "output_type": "stream",
          "name": "stdout",
          "text": [
            "dict_keys(['loss', 'accuracy', 'val_loss', 'val_accuracy'])\n"
          ]
        }
      ]
    },
    {
      "cell_type": "code",
      "source": [
        "plt.plot(hist.history['accuracy'])\n",
        "plt.plot(hist.history['val_accuracy'])\n",
        "plt.title('model accuracy')\n",
        "plt.ylabel('accuracy')\n",
        "plt.xlabel('epoch')\n",
        "plt.legend(['train', 'test'], loc='upper left')\n",
        "plt.show()"
      ],
      "metadata": {
        "colab": {
          "base_uri": "https://localhost:8080/",
          "height": 295
        },
        "id": "VtVED3pYGJQy",
        "outputId": "ec05fb2e-e80b-495b-a7ab-c498f9420e54"
      },
      "execution_count": null,
      "outputs": [
        {
          "output_type": "display_data",
          "data": {
            "text/plain": [
              "<Figure size 432x288 with 1 Axes>"
            ],
            "image/png": "[encoded data removed]"
          },
          "metadata": {
            "needs_background": "light"
          }
        }
      ]
    },
    {
      "cell_type": "code",
      "source": [
        "plt.plot(hist.history['loss'])\n",
        "plt.plot(hist.history['val_loss'])\n",
        "plt.title('model loss')\n",
        "plt.ylabel('loss')\n",
        "plt.xlabel('epoch')\n",
        "plt.legend(['train', 'test'], loc='upper right')\n",
        "plt.show()"
      ],
      "metadata": {
        "colab": {
          "base_uri": "https://localhost:8080/",
          "height": 295
        },
        "id": "dNPJWiLCGWyn",
        "outputId": "630bcd32-d342-497a-838a-af46cd7cbefa"
      },
      "execution_count": null,
      "outputs": [
        {
          "output_type": "display_data",
          "data": {
            "text/plain": [
              "<Figure size 432x288 with 1 Axes>"
            ],
            "image/png": "[encoded data removed]"
          },
          "metadata": {
            "needs_background": "light"
          }
        }
      ]
    },
    {
      "cell_type": "code",
      "source": [],
      "metadata": {
        "id": "JaBUnFwoP0LF"
      },
      "execution_count": null,
      "outputs": []
    }
  ]
}